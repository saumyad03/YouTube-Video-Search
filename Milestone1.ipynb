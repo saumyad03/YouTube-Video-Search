{
 "cells": [
  {
   "cell_type": "markdown",
   "metadata": {
    "id": "IQAv5npY6FYx"
   },
   "source": [
    "Prior to running this code, I followed this tutorial to set up my Google Account to use the Google Drive API: https://www.youtube.com/watch?v=2mnKE9IERt4&t=25s&ab_channel=CodingShiksha. Note: My working directory contains the client_secrets.json found by following this tutorial."
   ]
  },
  {
   "cell_type": "markdown",
   "metadata": {},
   "source": [
    "Installing library to download YouTube videos"
   ]
  },
  {
   "cell_type": "code",
   "execution_count": 69,
   "metadata": {
    "colab": {
     "base_uri": "https://localhost:8080/"
    },
    "id": "R7VarVJsoLb0",
    "outputId": "d2817370-c767-4d85-ae47-75c3a928d412"
   },
   "outputs": [
    {
     "name": "stdout",
     "output_type": "stream",
     "text": [
      "Requirement already satisfied: pytube in c:\\users\\saumy\\appdata\\local\\programs\\python\\python310\\lib\\site-packages (15.0.0)\n"
     ]
    }
   ],
   "source": [
    "!pip install pytube"
   ]
  },
  {
   "cell_type": "markdown",
   "metadata": {},
   "source": [
    "Installing library to download YouTube video captions"
   ]
  },
  {
   "cell_type": "code",
   "execution_count": 70,
   "metadata": {
    "colab": {
     "base_uri": "https://localhost:8080/"
    },
    "id": "t8apy8zBsbWn",
    "outputId": "95e55a67-0d88-463a-fc89-dff1a53e12d1"
   },
   "outputs": [
    {
     "name": "stdout",
     "output_type": "stream",
     "text": [
      "Requirement already satisfied: youtube-transcript-api in c:\\users\\saumy\\appdata\\local\\programs\\python\\python310\\lib\\site-packages (0.6.1)\n",
      "Requirement already satisfied: requests in c:\\users\\saumy\\appdata\\local\\programs\\python\\python310\\lib\\site-packages (from youtube-transcript-api) (2.28.1)\n",
      "Requirement already satisfied: charset-normalizer<3,>=2 in c:\\users\\saumy\\appdata\\local\\programs\\python\\python310\\lib\\site-packages (from requests->youtube-transcript-api) (2.1.1)\n",
      "Requirement already satisfied: idna<4,>=2.5 in c:\\users\\saumy\\appdata\\local\\programs\\python\\python310\\lib\\site-packages (from requests->youtube-transcript-api) (3.4)\n",
      "Requirement already satisfied: urllib3<1.27,>=1.21.1 in c:\\users\\saumy\\appdata\\local\\programs\\python\\python310\\lib\\site-packages (from requests->youtube-transcript-api) (1.26.12)\n",
      "Requirement already satisfied: certifi>=2017.4.17 in c:\\users\\saumy\\appdata\\local\\programs\\python\\python310\\lib\\site-packages (from requests->youtube-transcript-api) (2022.9.24)\n"
     ]
    }
   ],
   "source": [
    "!pip install youtube-transcript-api"
   ]
  },
  {
   "cell_type": "markdown",
   "metadata": {},
   "source": [
    "Installing library to retrieve URLs of last 50 videos uploaded to YouTube"
   ]
  },
  {
   "cell_type": "code",
   "execution_count": 71,
   "metadata": {
    "colab": {
     "base_uri": "https://localhost:8080/"
    },
    "id": "64xCEQcmzpa7",
    "outputId": "95b6559a-2726-4e28-f039-3f7e7f175af5"
   },
   "outputs": [
    {
     "name": "stdout",
     "output_type": "stream",
     "text": [
      "Requirement already satisfied: scrapetube in c:\\users\\saumy\\appdata\\local\\programs\\python\\python310\\lib\\site-packages (2.5.1)\n",
      "Requirement already satisfied: requests in c:\\users\\saumy\\appdata\\local\\programs\\python\\python310\\lib\\site-packages (from scrapetube) (2.28.1)\n",
      "Requirement already satisfied: typing-extensions in c:\\users\\saumy\\appdata\\local\\programs\\python\\python310\\lib\\site-packages (from scrapetube) (4.5.0)\n",
      "Requirement already satisfied: charset-normalizer<3,>=2 in c:\\users\\saumy\\appdata\\local\\programs\\python\\python310\\lib\\site-packages (from requests->scrapetube) (2.1.1)\n",
      "Requirement already satisfied: idna<4,>=2.5 in c:\\users\\saumy\\appdata\\local\\programs\\python\\python310\\lib\\site-packages (from requests->scrapetube) (3.4)\n",
      "Requirement already satisfied: urllib3<1.27,>=1.21.1 in c:\\users\\saumy\\appdata\\local\\programs\\python\\python310\\lib\\site-packages (from requests->scrapetube) (1.26.12)\n",
      "Requirement already satisfied: certifi>=2017.4.17 in c:\\users\\saumy\\appdata\\local\\programs\\python\\python310\\lib\\site-packages (from requests->scrapetube) (2022.9.24)\n"
     ]
    }
   ],
   "source": [
    "!pip install scrapetube"
   ]
  },
  {
   "cell_type": "markdown",
   "metadata": {},
   "source": [
    "Installing library for Google Drive"
   ]
  },
  {
   "cell_type": "code",
   "execution_count": 72,
   "metadata": {
    "colab": {
     "base_uri": "https://localhost:8080/"
    },
    "id": "-SOY0t5--lux",
    "outputId": "0afeb276-1172-4f4d-a6ed-da496fc7474b"
   },
   "outputs": [
    {
     "name": "stdout",
     "output_type": "stream",
     "text": [
      "Requirement already satisfied: pydrive in c:\\users\\saumy\\appdata\\local\\programs\\python\\python310\\lib\\site-packages (1.3.1)\n",
      "Requirement already satisfied: google-api-python-client>=1.2 in c:\\users\\saumy\\appdata\\local\\programs\\python\\python310\\lib\\site-packages (from pydrive) (2.106.0)\n",
      "Requirement already satisfied: oauth2client>=4.0.0 in c:\\users\\saumy\\appdata\\local\\programs\\python\\python310\\lib\\site-packages (from pydrive) (4.1.3)\n",
      "Requirement already satisfied: PyYAML>=3.0 in c:\\users\\saumy\\appdata\\local\\programs\\python\\python310\\lib\\site-packages (from pydrive) (6.0.1)\n",
      "Requirement already satisfied: httplib2<1.dev0,>=0.15.0 in c:\\users\\saumy\\appdata\\local\\programs\\python\\python310\\lib\\site-packages (from google-api-python-client>=1.2->pydrive) (0.22.0)\n",
      "Requirement already satisfied: google-auth<3.0.0.dev0,>=1.19.0 in c:\\users\\saumy\\appdata\\local\\programs\\python\\python310\\lib\\site-packages (from google-api-python-client>=1.2->pydrive) (2.23.3)\n",
      "Requirement already satisfied: google-auth-httplib2>=0.1.0 in c:\\users\\saumy\\appdata\\local\\programs\\python\\python310\\lib\\site-packages (from google-api-python-client>=1.2->pydrive) (0.1.1)\n",
      "Requirement already satisfied: google-api-core!=2.0.*,!=2.1.*,!=2.2.*,!=2.3.0,<3.0.0.dev0,>=1.31.5 in c:\\users\\saumy\\appdata\\local\\programs\\python\\python310\\lib\\site-packages (from google-api-python-client>=1.2->pydrive) (2.12.0)\n",
      "Requirement already satisfied: uritemplate<5,>=3.0.1 in c:\\users\\saumy\\appdata\\local\\programs\\python\\python310\\lib\\site-packages (from google-api-python-client>=1.2->pydrive) (4.1.1)\n",
      "Requirement already satisfied: pyasn1>=0.1.7 in c:\\users\\saumy\\appdata\\local\\programs\\python\\python310\\lib\\site-packages (from oauth2client>=4.0.0->pydrive) (0.5.0)\n",
      "Requirement already satisfied: pyasn1-modules>=0.0.5 in c:\\users\\saumy\\appdata\\local\\programs\\python\\python310\\lib\\site-packages (from oauth2client>=4.0.0->pydrive) (0.3.0)\n",
      "Requirement already satisfied: rsa>=3.1.4 in c:\\users\\saumy\\appdata\\local\\programs\\python\\python310\\lib\\site-packages (from oauth2client>=4.0.0->pydrive) (4.9)\n",
      "Requirement already satisfied: six>=1.6.1 in c:\\users\\saumy\\appdata\\local\\programs\\python\\python310\\lib\\site-packages (from oauth2client>=4.0.0->pydrive) (1.16.0)\n",
      "Requirement already satisfied: googleapis-common-protos<2.0.dev0,>=1.56.2 in c:\\users\\saumy\\appdata\\local\\programs\\python\\python310\\lib\\site-packages (from google-api-core!=2.0.*,!=2.1.*,!=2.2.*,!=2.3.0,<3.0.0.dev0,>=1.31.5->google-api-python-client>=1.2->pydrive) (1.61.0)\n",
      "Requirement already satisfied: protobuf!=3.20.0,!=3.20.1,!=4.21.0,!=4.21.1,!=4.21.2,!=4.21.3,!=4.21.4,!=4.21.5,<5.0.0.dev0,>=3.19.5 in c:\\users\\saumy\\appdata\\local\\programs\\python\\python310\\lib\\site-packages (from google-api-core!=2.0.*,!=2.1.*,!=2.2.*,!=2.3.0,<3.0.0.dev0,>=1.31.5->google-api-python-client>=1.2->pydrive) (3.20.3)\n",
      "Requirement already satisfied: requests<3.0.0.dev0,>=2.18.0 in c:\\users\\saumy\\appdata\\local\\programs\\python\\python310\\lib\\site-packages (from google-api-core!=2.0.*,!=2.1.*,!=2.2.*,!=2.3.0,<3.0.0.dev0,>=1.31.5->google-api-python-client>=1.2->pydrive) (2.28.1)\n",
      "Requirement already satisfied: cachetools<6.0,>=2.0.0 in c:\\users\\saumy\\appdata\\local\\programs\\python\\python310\\lib\\site-packages (from google-auth<3.0.0.dev0,>=1.19.0->google-api-python-client>=1.2->pydrive) (5.3.0)\n",
      "Requirement already satisfied: pyparsing!=3.0.0,!=3.0.1,!=3.0.2,!=3.0.3,<4,>=2.4.2 in c:\\users\\saumy\\appdata\\local\\programs\\python\\python310\\lib\\site-packages (from httplib2<1.dev0,>=0.15.0->google-api-python-client>=1.2->pydrive) (3.0.9)\n",
      "Requirement already satisfied: charset-normalizer<3,>=2 in c:\\users\\saumy\\appdata\\local\\programs\\python\\python310\\lib\\site-packages (from requests<3.0.0.dev0,>=2.18.0->google-api-core!=2.0.*,!=2.1.*,!=2.2.*,!=2.3.0,<3.0.0.dev0,>=1.31.5->google-api-python-client>=1.2->pydrive) (2.1.1)\n",
      "Requirement already satisfied: idna<4,>=2.5 in c:\\users\\saumy\\appdata\\local\\programs\\python\\python310\\lib\\site-packages (from requests<3.0.0.dev0,>=2.18.0->google-api-core!=2.0.*,!=2.1.*,!=2.2.*,!=2.3.0,<3.0.0.dev0,>=1.31.5->google-api-python-client>=1.2->pydrive) (3.4)\n",
      "Requirement already satisfied: urllib3<1.27,>=1.21.1 in c:\\users\\saumy\\appdata\\local\\programs\\python\\python310\\lib\\site-packages (from requests<3.0.0.dev0,>=2.18.0->google-api-core!=2.0.*,!=2.1.*,!=2.2.*,!=2.3.0,<3.0.0.dev0,>=1.31.5->google-api-python-client>=1.2->pydrive) (1.26.12)\n",
      "Requirement already satisfied: certifi>=2017.4.17 in c:\\users\\saumy\\appdata\\local\\programs\\python\\python310\\lib\\site-packages (from requests<3.0.0.dev0,>=2.18.0->google-api-core!=2.0.*,!=2.1.*,!=2.2.*,!=2.3.0,<3.0.0.dev0,>=1.31.5->google-api-python-client>=1.2->pydrive) (2022.9.24)\n"
     ]
    }
   ],
   "source": [
    "!pip install pydrive"
   ]
  },
  {
   "cell_type": "code",
   "execution_count": 73,
   "metadata": {
    "id": "u_JR8-Zly2lT"
   },
   "outputs": [],
   "source": [
    "# importing libraries\n",
    "from pytube import YouTube\n",
    "from youtube_transcript_api import YouTubeTranscriptApi\n",
    "from pydrive.auth import GoogleAuth\n",
    "from pydrive.drive import GoogleDrive\n",
    "import scrapetube"
   ]
  },
  {
   "cell_type": "code",
   "execution_count": 74,
   "metadata": {},
   "outputs": [],
   "source": [
    "# denotes id of folder where videos will be stored\n",
    "folderId = \"1oqepCj41ZoTMnLS2ICaBrBNJFDvyfb4l\""
   ]
  },
  {
   "cell_type": "code",
   "execution_count": 75,
   "metadata": {
    "colab": {
     "base_uri": "https://localhost:8080/"
    },
    "id": "v9HgI2XqyzeZ",
    "outputId": "d85bcad1-fe0a-4c59-c574-c5eed735cbca"
   },
   "outputs": [],
   "source": [
    "# API for downloading youtube videos; takes url of video as parameter\n",
    "def download_video(url):\n",
    "  # instantiating YouTube object, passing video URL as parameter\n",
    "  yt = YouTube(url)\n",
    "  # setting names for downloaded files\n",
    "  f1Name = yt.video_id + \".mp4\"\n",
    "  f2Name = yt.video_id + \".txt\"\n",
    "  # filtering so only streams containing both video and audio are included\n",
    "  stream = yt.streams.filter(progressive=True).get_by_itag(22)\n",
    "  # downloading the stream\n",
    "  stream.download(filename=f1Name)\n",
    "  # getting English transcription from video\n",
    "  srt = YouTubeTranscriptApi.get_transcript(yt.video_id, languages=['en'])\n",
    "  # writing video transcription to a file in a readable format\n",
    "  with open(f2Name, \"w\") as outFile:\n",
    "    for caption in srt:\n",
    "      start = round(caption[\"start\"], 2)\n",
    "      end = round(start + caption[\"duration\"], 2)\n",
    "      text = caption[\"text\"]\n",
    "      line = str(start) + \" -> \" + str(end) + \"\\n\" + text + \"\\n\\n\"\n",
    "      outFile.write(line)\n",
    "  # instantiating gauth and drive objects\n",
    "  gauth = GoogleAuth()\n",
    "  drive = GoogleDrive(gauth)\n",
    "  # uploading files to Google Drive folder we created\n",
    "  f1Metadata = {\"name\":f1Name, \"mimeType\":\"video/mp4\", \"parents\":[{\"id\":folderId}]}\n",
    "  f2Metadata = {\"name\":f2Name, \"mimeType\":\"file/txt\", \"parents\":[{\"id\":folderId}]}\n",
    "  f1 = drive.CreateFile(metadata=f1Metadata)\n",
    "  f1.SetContentFile(f1Name)\n",
    "  f1.Upload()\n",
    "  f2 = drive.CreateFile(metadata=f2Metadata)\n",
    "  f2.SetContentFile(f2Name)\n",
    "  f2.Upload()"
   ]
  },
  {
   "cell_type": "code",
   "execution_count": 76,
   "metadata": {
    "id": "ATWeat8Z19Yx"
   },
   "outputs": [],
   "source": [
    "# We will get the URLs of the 50 latest uploaded videos by NPR,\n",
    "# so we can use our API to download them\n",
    "videos = scrapetube.get_channel('UCJnS2EsPfv46u1JR8cnD0NA')\n",
    "urls = []\n",
    "i = 0\n",
    "for video in videos:\n",
    "  urls.append(\"https://www.youtube.com/watch?v=\" + video[\"videoId\"] + \"&ab_channel=NPR\")\n",
    "  i += 1\n",
    "  if i >= 50:\n",
    "    break"
   ]
  },
  {
   "cell_type": "code",
   "execution_count": 77,
   "metadata": {},
   "outputs": [
    {
     "name": "stdout",
     "output_type": "stream",
     "text": [
      "Your browser has been opened to visit:\n",
      "\n",
      "    https://accounts.google.com/o/oauth2/auth?client_id=648758574767-e4je4noneo6eb73kf1i785ctajlsghit.apps.googleusercontent.com&redirect_uri=http%3A%2F%2Flocalhost%3A8080%2F&scope=https%3A%2F%2Fwww.googleapis.com%2Fauth%2Fdrive&access_type=offline&response_type=code\n",
      "\n",
      "Authentication successful.\n",
      "Your browser has been opened to visit:\n",
      "\n",
      "    https://accounts.google.com/o/oauth2/auth?client_id=648758574767-e4je4noneo6eb73kf1i785ctajlsghit.apps.googleusercontent.com&redirect_uri=http%3A%2F%2Flocalhost%3A8080%2F&scope=https%3A%2F%2Fwww.googleapis.com%2Fauth%2Fdrive&access_type=offline&response_type=code\n",
      "\n",
      "Authentication successful.\n",
      "Your browser has been opened to visit:\n",
      "\n",
      "    https://accounts.google.com/o/oauth2/auth?client_id=648758574767-e4je4noneo6eb73kf1i785ctajlsghit.apps.googleusercontent.com&redirect_uri=http%3A%2F%2Flocalhost%3A8080%2F&scope=https%3A%2F%2Fwww.googleapis.com%2Fauth%2Fdrive&access_type=offline&response_type=code\n",
      "\n",
      "Authentication successful.\n",
      "Your browser has been opened to visit:\n",
      "\n",
      "    https://accounts.google.com/o/oauth2/auth?client_id=648758574767-e4je4noneo6eb73kf1i785ctajlsghit.apps.googleusercontent.com&redirect_uri=http%3A%2F%2Flocalhost%3A8080%2F&scope=https%3A%2F%2Fwww.googleapis.com%2Fauth%2Fdrive&access_type=offline&response_type=code\n",
      "\n",
      "Authentication successful.\n",
      "Your browser has been opened to visit:\n",
      "\n",
      "    https://accounts.google.com/o/oauth2/auth?client_id=648758574767-e4je4noneo6eb73kf1i785ctajlsghit.apps.googleusercontent.com&redirect_uri=http%3A%2F%2Flocalhost%3A8080%2F&scope=https%3A%2F%2Fwww.googleapis.com%2Fauth%2Fdrive&access_type=offline&response_type=code\n",
      "\n",
      "Authentication successful.\n",
      "Your browser has been opened to visit:\n",
      "\n",
      "    https://accounts.google.com/o/oauth2/auth?client_id=648758574767-e4je4noneo6eb73kf1i785ctajlsghit.apps.googleusercontent.com&redirect_uri=http%3A%2F%2Flocalhost%3A8080%2F&scope=https%3A%2F%2Fwww.googleapis.com%2Fauth%2Fdrive&access_type=offline&response_type=code\n",
      "\n",
      "Authentication successful.\n",
      "Your browser has been opened to visit:\n",
      "\n",
      "    https://accounts.google.com/o/oauth2/auth?client_id=648758574767-e4je4noneo6eb73kf1i785ctajlsghit.apps.googleusercontent.com&redirect_uri=http%3A%2F%2Flocalhost%3A8080%2F&scope=https%3A%2F%2Fwww.googleapis.com%2Fauth%2Fdrive&access_type=offline&response_type=code\n",
      "\n",
      "Authentication successful.\n",
      "Your browser has been opened to visit:\n",
      "\n",
      "    https://accounts.google.com/o/oauth2/auth?client_id=648758574767-e4je4noneo6eb73kf1i785ctajlsghit.apps.googleusercontent.com&redirect_uri=http%3A%2F%2Flocalhost%3A8080%2F&scope=https%3A%2F%2Fwww.googleapis.com%2Fauth%2Fdrive&access_type=offline&response_type=code\n",
      "\n",
      "Authentication successful.\n",
      "Your browser has been opened to visit:\n",
      "\n",
      "    https://accounts.google.com/o/oauth2/auth?client_id=648758574767-e4je4noneo6eb73kf1i785ctajlsghit.apps.googleusercontent.com&redirect_uri=http%3A%2F%2Flocalhost%3A8080%2F&scope=https%3A%2F%2Fwww.googleapis.com%2Fauth%2Fdrive&access_type=offline&response_type=code\n",
      "\n",
      "Authentication successful.\n",
      "Your browser has been opened to visit:\n",
      "\n",
      "    https://accounts.google.com/o/oauth2/auth?client_id=648758574767-e4je4noneo6eb73kf1i785ctajlsghit.apps.googleusercontent.com&redirect_uri=http%3A%2F%2Flocalhost%3A8080%2F&scope=https%3A%2F%2Fwww.googleapis.com%2Fauth%2Fdrive&access_type=offline&response_type=code\n",
      "\n",
      "Authentication successful.\n",
      "Your browser has been opened to visit:\n",
      "\n",
      "    https://accounts.google.com/o/oauth2/auth?client_id=648758574767-e4je4noneo6eb73kf1i785ctajlsghit.apps.googleusercontent.com&redirect_uri=http%3A%2F%2Flocalhost%3A8080%2F&scope=https%3A%2F%2Fwww.googleapis.com%2Fauth%2Fdrive&access_type=offline&response_type=code\n",
      "\n",
      "Authentication successful.\n",
      "Your browser has been opened to visit:\n",
      "\n",
      "    https://accounts.google.com/o/oauth2/auth?client_id=648758574767-e4je4noneo6eb73kf1i785ctajlsghit.apps.googleusercontent.com&redirect_uri=http%3A%2F%2Flocalhost%3A8080%2F&scope=https%3A%2F%2Fwww.googleapis.com%2Fauth%2Fdrive&access_type=offline&response_type=code\n",
      "\n",
      "Authentication successful.\n",
      "Your browser has been opened to visit:\n",
      "\n",
      "    https://accounts.google.com/o/oauth2/auth?client_id=648758574767-e4je4noneo6eb73kf1i785ctajlsghit.apps.googleusercontent.com&redirect_uri=http%3A%2F%2Flocalhost%3A8080%2F&scope=https%3A%2F%2Fwww.googleapis.com%2Fauth%2Fdrive&access_type=offline&response_type=code\n",
      "\n",
      "Authentication successful.\n",
      "Your browser has been opened to visit:\n",
      "\n",
      "    https://accounts.google.com/o/oauth2/auth?client_id=648758574767-e4je4noneo6eb73kf1i785ctajlsghit.apps.googleusercontent.com&redirect_uri=http%3A%2F%2Flocalhost%3A8080%2F&scope=https%3A%2F%2Fwww.googleapis.com%2Fauth%2Fdrive&access_type=offline&response_type=code\n",
      "\n",
      "Authentication successful.\n",
      "Your browser has been opened to visit:\n",
      "\n",
      "    https://accounts.google.com/o/oauth2/auth?client_id=648758574767-e4je4noneo6eb73kf1i785ctajlsghit.apps.googleusercontent.com&redirect_uri=http%3A%2F%2Flocalhost%3A8080%2F&scope=https%3A%2F%2Fwww.googleapis.com%2Fauth%2Fdrive&access_type=offline&response_type=code\n",
      "\n",
      "Authentication successful.\n",
      "Your browser has been opened to visit:\n",
      "\n",
      "    https://accounts.google.com/o/oauth2/auth?client_id=648758574767-e4je4noneo6eb73kf1i785ctajlsghit.apps.googleusercontent.com&redirect_uri=http%3A%2F%2Flocalhost%3A8080%2F&scope=https%3A%2F%2Fwww.googleapis.com%2Fauth%2Fdrive&access_type=offline&response_type=code\n",
      "\n",
      "Authentication successful.\n",
      "Your browser has been opened to visit:\n",
      "\n",
      "    https://accounts.google.com/o/oauth2/auth?client_id=648758574767-e4je4noneo6eb73kf1i785ctajlsghit.apps.googleusercontent.com&redirect_uri=http%3A%2F%2Flocalhost%3A8080%2F&scope=https%3A%2F%2Fwww.googleapis.com%2Fauth%2Fdrive&access_type=offline&response_type=code\n",
      "\n",
      "Authentication successful.\n",
      "Your browser has been opened to visit:\n",
      "\n",
      "    https://accounts.google.com/o/oauth2/auth?client_id=648758574767-e4je4noneo6eb73kf1i785ctajlsghit.apps.googleusercontent.com&redirect_uri=http%3A%2F%2Flocalhost%3A8080%2F&scope=https%3A%2F%2Fwww.googleapis.com%2Fauth%2Fdrive&access_type=offline&response_type=code\n",
      "\n",
      "Authentication successful.\n",
      "Your browser has been opened to visit:\n",
      "\n",
      "    https://accounts.google.com/o/oauth2/auth?client_id=648758574767-e4je4noneo6eb73kf1i785ctajlsghit.apps.googleusercontent.com&redirect_uri=http%3A%2F%2Flocalhost%3A8080%2F&scope=https%3A%2F%2Fwww.googleapis.com%2Fauth%2Fdrive&access_type=offline&response_type=code\n",
      "\n",
      "Authentication successful.\n",
      "Your browser has been opened to visit:\n",
      "\n",
      "    https://accounts.google.com/o/oauth2/auth?client_id=648758574767-e4je4noneo6eb73kf1i785ctajlsghit.apps.googleusercontent.com&redirect_uri=http%3A%2F%2Flocalhost%3A8080%2F&scope=https%3A%2F%2Fwww.googleapis.com%2Fauth%2Fdrive&access_type=offline&response_type=code\n",
      "\n",
      "Authentication successful.\n",
      "Your browser has been opened to visit:\n",
      "\n",
      "    https://accounts.google.com/o/oauth2/auth?client_id=648758574767-e4je4noneo6eb73kf1i785ctajlsghit.apps.googleusercontent.com&redirect_uri=http%3A%2F%2Flocalhost%3A8080%2F&scope=https%3A%2F%2Fwww.googleapis.com%2Fauth%2Fdrive&access_type=offline&response_type=code\n",
      "\n",
      "Authentication successful.\n",
      "Your browser has been opened to visit:\n",
      "\n",
      "    https://accounts.google.com/o/oauth2/auth?client_id=648758574767-e4je4noneo6eb73kf1i785ctajlsghit.apps.googleusercontent.com&redirect_uri=http%3A%2F%2Flocalhost%3A8080%2F&scope=https%3A%2F%2Fwww.googleapis.com%2Fauth%2Fdrive&access_type=offline&response_type=code\n",
      "\n",
      "Authentication successful.\n",
      "Your browser has been opened to visit:\n",
      "\n",
      "    https://accounts.google.com/o/oauth2/auth?client_id=648758574767-e4je4noneo6eb73kf1i785ctajlsghit.apps.googleusercontent.com&redirect_uri=http%3A%2F%2Flocalhost%3A8080%2F&scope=https%3A%2F%2Fwww.googleapis.com%2Fauth%2Fdrive&access_type=offline&response_type=code\n",
      "\n",
      "Authentication successful.\n",
      "Your browser has been opened to visit:\n",
      "\n",
      "    https://accounts.google.com/o/oauth2/auth?client_id=648758574767-e4je4noneo6eb73kf1i785ctajlsghit.apps.googleusercontent.com&redirect_uri=http%3A%2F%2Flocalhost%3A8080%2F&scope=https%3A%2F%2Fwww.googleapis.com%2Fauth%2Fdrive&access_type=offline&response_type=code\n",
      "\n",
      "Authentication successful.\n",
      "Your browser has been opened to visit:\n",
      "\n",
      "    https://accounts.google.com/o/oauth2/auth?client_id=648758574767-e4je4noneo6eb73kf1i785ctajlsghit.apps.googleusercontent.com&redirect_uri=http%3A%2F%2Flocalhost%3A8080%2F&scope=https%3A%2F%2Fwww.googleapis.com%2Fauth%2Fdrive&access_type=offline&response_type=code\n",
      "\n"
     ]
    },
    {
     "name": "stdout",
     "output_type": "stream",
     "text": [
      "Authentication successful.\n",
      "Your browser has been opened to visit:\n",
      "\n",
      "    https://accounts.google.com/o/oauth2/auth?client_id=648758574767-e4je4noneo6eb73kf1i785ctajlsghit.apps.googleusercontent.com&redirect_uri=http%3A%2F%2Flocalhost%3A8080%2F&scope=https%3A%2F%2Fwww.googleapis.com%2Fauth%2Fdrive&access_type=offline&response_type=code\n",
      "\n",
      "Authentication successful.\n",
      "Your browser has been opened to visit:\n",
      "\n",
      "    https://accounts.google.com/o/oauth2/auth?client_id=648758574767-e4je4noneo6eb73kf1i785ctajlsghit.apps.googleusercontent.com&redirect_uri=http%3A%2F%2Flocalhost%3A8080%2F&scope=https%3A%2F%2Fwww.googleapis.com%2Fauth%2Fdrive&access_type=offline&response_type=code\n",
      "\n",
      "Authentication successful.\n"
     ]
    },
    {
     "ename": "NoTranscriptFound",
     "evalue": "\nCould not retrieve a transcript for the video https://www.youtube.com/watch?v=wkpURF69_DM! This is most likely caused by:\n\nNo transcripts were found for any of the requested language codes: ['en']\n\nFor this video (wkpURF69_DM) transcripts are available in the following languages:\n\n(MANUALLY CREATED)\nNone\n\n(GENERATED)\n - uk (\"Ukrainian (auto-generated)\")[TRANSLATABLE]\n\n(TRANSLATION LANGUAGES)\n - af (\"Afrikaans\")\n - ak (\"Akan\")\n - sq (\"Albanian\")\n - am (\"Amharic\")\n - ar (\"Arabic\")\n - hy (\"Armenian\")\n - as (\"Assamese\")\n - ay (\"Aymara\")\n - az (\"Azerbaijani\")\n - bn (\"Bangla\")\n - eu (\"Basque\")\n - be (\"Belarusian\")\n - bho (\"Bhojpuri\")\n - bs (\"Bosnian\")\n - bg (\"Bulgarian\")\n - my (\"Burmese\")\n - ca (\"Catalan\")\n - ceb (\"Cebuano\")\n - zh-Hans (\"Chinese (Simplified)\")\n - zh-Hant (\"Chinese (Traditional)\")\n - co (\"Corsican\")\n - hr (\"Croatian\")\n - cs (\"Czech\")\n - da (\"Danish\")\n - dv (\"Divehi\")\n - nl (\"Dutch\")\n - en (\"English\")\n - eo (\"Esperanto\")\n - et (\"Estonian\")\n - ee (\"Ewe\")\n - fil (\"Filipino\")\n - fi (\"Finnish\")\n - fr (\"French\")\n - gl (\"Galician\")\n - lg (\"Ganda\")\n - ka (\"Georgian\")\n - de (\"German\")\n - el (\"Greek\")\n - gn (\"Guarani\")\n - gu (\"Gujarati\")\n - ht (\"Haitian Creole\")\n - ha (\"Hausa\")\n - haw (\"Hawaiian\")\n - iw (\"Hebrew\")\n - hi (\"Hindi\")\n - hmn (\"Hmong\")\n - hu (\"Hungarian\")\n - is (\"Icelandic\")\n - ig (\"Igbo\")\n - id (\"Indonesian\")\n - ga (\"Irish\")\n - it (\"Italian\")\n - ja (\"Japanese\")\n - jv (\"Javanese\")\n - kn (\"Kannada\")\n - kk (\"Kazakh\")\n - km (\"Khmer\")\n - rw (\"Kinyarwanda\")\n - ko (\"Korean\")\n - kri (\"Krio\")\n - ku (\"Kurdish\")\n - ky (\"Kyrgyz\")\n - lo (\"Lao\")\n - la (\"Latin\")\n - lv (\"Latvian\")\n - ln (\"Lingala\")\n - lt (\"Lithuanian\")\n - lb (\"Luxembourgish\")\n - mk (\"Macedonian\")\n - mg (\"Malagasy\")\n - ms (\"Malay\")\n - ml (\"Malayalam\")\n - mt (\"Maltese\")\n - mi (\"Māori\")\n - mr (\"Marathi\")\n - mn (\"Mongolian\")\n - ne (\"Nepali\")\n - nso (\"Northern Sotho\")\n - no (\"Norwegian\")\n - ny (\"Nyanja\")\n - or (\"Odia\")\n - om (\"Oromo\")\n - ps (\"Pashto\")\n - fa (\"Persian\")\n - pl (\"Polish\")\n - pt (\"Portuguese\")\n - pa (\"Punjabi\")\n - qu (\"Quechua\")\n - ro (\"Romanian\")\n - ru (\"Russian\")\n - sm (\"Samoan\")\n - sa (\"Sanskrit\")\n - gd (\"Scottish Gaelic\")\n - sr (\"Serbian\")\n - sn (\"Shona\")\n - sd (\"Sindhi\")\n - si (\"Sinhala\")\n - sk (\"Slovak\")\n - sl (\"Slovenian\")\n - so (\"Somali\")\n - st (\"Southern Sotho\")\n - es (\"Spanish\")\n - su (\"Sundanese\")\n - sw (\"Swahili\")\n - sv (\"Swedish\")\n - tg (\"Tajik\")\n - ta (\"Tamil\")\n - tt (\"Tatar\")\n - te (\"Telugu\")\n - th (\"Thai\")\n - ti (\"Tigrinya\")\n - ts (\"Tsonga\")\n - tr (\"Turkish\")\n - tk (\"Turkmen\")\n - uk (\"Ukrainian\")\n - ur (\"Urdu\")\n - ug (\"Uyghur\")\n - uz (\"Uzbek\")\n - vi (\"Vietnamese\")\n - cy (\"Welsh\")\n - fy (\"Western Frisian\")\n - xh (\"Xhosa\")\n - yi (\"Yiddish\")\n - yo (\"Yoruba\")\n - zu (\"Zulu\")\n\nIf you are sure that the described cause is not responsible for this error and that a transcript should be retrievable, please create an issue at https://github.com/jdepoix/youtube-transcript-api/issues. Please add which version of youtube_transcript_api you are using and provide the information needed to replicate the error. Also make sure that there are no open issues which already describe your problem!",
     "output_type": "error",
     "traceback": [
      "\u001b[1;31m---------------------------------------------------------------------------\u001b[0m",
      "\u001b[1;31mNoTranscriptFound\u001b[0m                         Traceback (most recent call last)",
      "Cell \u001b[1;32mIn [77], line 4\u001b[0m\n\u001b[0;32m      1\u001b[0m \u001b[38;5;66;03m# Now, we will iterate through these urls,\u001b[39;00m\n\u001b[0;32m      2\u001b[0m \u001b[38;5;66;03m# calling our API for all 50 videos\u001b[39;00m\n\u001b[0;32m      3\u001b[0m \u001b[38;5;28;01mfor\u001b[39;00m url \u001b[38;5;129;01min\u001b[39;00m urls:\n\u001b[1;32m----> 4\u001b[0m     \u001b[43mdownload_video\u001b[49m\u001b[43m(\u001b[49m\u001b[43murl\u001b[49m\u001b[43m)\u001b[49m\n",
      "Cell \u001b[1;32mIn [75], line 13\u001b[0m, in \u001b[0;36mdownload_video\u001b[1;34m(url)\u001b[0m\n\u001b[0;32m     11\u001b[0m stream\u001b[38;5;241m.\u001b[39mdownload(filename\u001b[38;5;241m=\u001b[39mf1Name)\n\u001b[0;32m     12\u001b[0m \u001b[38;5;66;03m# getting English transcription from video\u001b[39;00m\n\u001b[1;32m---> 13\u001b[0m srt \u001b[38;5;241m=\u001b[39m \u001b[43mYouTubeTranscriptApi\u001b[49m\u001b[38;5;241;43m.\u001b[39;49m\u001b[43mget_transcript\u001b[49m\u001b[43m(\u001b[49m\u001b[43myt\u001b[49m\u001b[38;5;241;43m.\u001b[39;49m\u001b[43mvideo_id\u001b[49m\u001b[43m,\u001b[49m\u001b[43m \u001b[49m\u001b[43mlanguages\u001b[49m\u001b[38;5;241;43m=\u001b[39;49m\u001b[43m[\u001b[49m\u001b[38;5;124;43m'\u001b[39;49m\u001b[38;5;124;43men\u001b[39;49m\u001b[38;5;124;43m'\u001b[39;49m\u001b[43m]\u001b[49m\u001b[43m)\u001b[49m\n\u001b[0;32m     14\u001b[0m \u001b[38;5;66;03m# writing video transcription to a file in a readable format\u001b[39;00m\n\u001b[0;32m     15\u001b[0m \u001b[38;5;28;01mwith\u001b[39;00m \u001b[38;5;28mopen\u001b[39m(f2Name, \u001b[38;5;124m\"\u001b[39m\u001b[38;5;124mw\u001b[39m\u001b[38;5;124m\"\u001b[39m) \u001b[38;5;28;01mas\u001b[39;00m outFile:\n",
      "File \u001b[1;32m~\\AppData\\Local\\Programs\\Python\\Python310\\lib\\site-packages\\youtube_transcript_api\\_api.py:137\u001b[0m, in \u001b[0;36mYouTubeTranscriptApi.get_transcript\u001b[1;34m(cls, video_id, languages, proxies, cookies, preserve_formatting)\u001b[0m\n\u001b[0;32m    116\u001b[0m \u001b[38;5;124;03m\"\"\"\u001b[39;00m\n\u001b[0;32m    117\u001b[0m \u001b[38;5;124;03mRetrieves the transcript for a single video. This is just a shortcut for calling::\u001b[39;00m\n\u001b[0;32m    118\u001b[0m \n\u001b[1;32m   (...)\u001b[0m\n\u001b[0;32m    134\u001b[0m \u001b[38;5;124;03m:rtype [{'text': str, 'start': float, 'end': float}]:\u001b[39;00m\n\u001b[0;32m    135\u001b[0m \u001b[38;5;124;03m\"\"\"\u001b[39;00m\n\u001b[0;32m    136\u001b[0m \u001b[38;5;28;01massert\u001b[39;00m \u001b[38;5;28misinstance\u001b[39m(video_id, \u001b[38;5;28mstr\u001b[39m), \u001b[38;5;124m\"\u001b[39m\u001b[38;5;124m`video_id` must be a string\u001b[39m\u001b[38;5;124m\"\u001b[39m\n\u001b[1;32m--> 137\u001b[0m \u001b[38;5;28;01mreturn\u001b[39;00m \u001b[38;5;28;43mcls\u001b[39;49m\u001b[38;5;241;43m.\u001b[39;49m\u001b[43mlist_transcripts\u001b[49m\u001b[43m(\u001b[49m\u001b[43mvideo_id\u001b[49m\u001b[43m,\u001b[49m\u001b[43m \u001b[49m\u001b[43mproxies\u001b[49m\u001b[43m,\u001b[49m\u001b[43m \u001b[49m\u001b[43mcookies\u001b[49m\u001b[43m)\u001b[49m\u001b[38;5;241;43m.\u001b[39;49m\u001b[43mfind_transcript\u001b[49m\u001b[43m(\u001b[49m\u001b[43mlanguages\u001b[49m\u001b[43m)\u001b[49m\u001b[38;5;241m.\u001b[39mfetch(preserve_formatting\u001b[38;5;241m=\u001b[39mpreserve_formatting)\n",
      "File \u001b[1;32m~\\AppData\\Local\\Programs\\Python\\Python310\\lib\\site-packages\\youtube_transcript_api\\_transcripts.py:183\u001b[0m, in \u001b[0;36mTranscriptList.find_transcript\u001b[1;34m(self, language_codes)\u001b[0m\n\u001b[0;32m    169\u001b[0m \u001b[38;5;28;01mdef\u001b[39;00m \u001b[38;5;21mfind_transcript\u001b[39m(\u001b[38;5;28mself\u001b[39m, language_codes):\n\u001b[0;32m    170\u001b[0m     \u001b[38;5;124;03m\"\"\"\u001b[39;00m\n\u001b[0;32m    171\u001b[0m \u001b[38;5;124;03m    Finds a transcript for a given language code. Manually created transcripts are returned first and only if none\u001b[39;00m\n\u001b[0;32m    172\u001b[0m \u001b[38;5;124;03m    are found, generated transcripts are used. If you only want generated transcripts use\u001b[39;00m\n\u001b[1;32m   (...)\u001b[0m\n\u001b[0;32m    181\u001b[0m \u001b[38;5;124;03m    :raises: NoTranscriptFound\u001b[39;00m\n\u001b[0;32m    182\u001b[0m \u001b[38;5;124;03m    \"\"\"\u001b[39;00m\n\u001b[1;32m--> 183\u001b[0m     \u001b[38;5;28;01mreturn\u001b[39;00m \u001b[38;5;28;43mself\u001b[39;49m\u001b[38;5;241;43m.\u001b[39;49m\u001b[43m_find_transcript\u001b[49m\u001b[43m(\u001b[49m\u001b[43mlanguage_codes\u001b[49m\u001b[43m,\u001b[49m\u001b[43m \u001b[49m\u001b[43m[\u001b[49m\u001b[38;5;28;43mself\u001b[39;49m\u001b[38;5;241;43m.\u001b[39;49m\u001b[43m_manually_created_transcripts\u001b[49m\u001b[43m,\u001b[49m\u001b[43m \u001b[49m\u001b[38;5;28;43mself\u001b[39;49m\u001b[38;5;241;43m.\u001b[39;49m\u001b[43m_generated_transcripts\u001b[49m\u001b[43m]\u001b[49m\u001b[43m)\u001b[49m\n",
      "File \u001b[1;32m~\\AppData\\Local\\Programs\\Python\\Python310\\lib\\site-packages\\youtube_transcript_api\\_transcripts.py:219\u001b[0m, in \u001b[0;36mTranscriptList._find_transcript\u001b[1;34m(self, language_codes, transcript_dicts)\u001b[0m\n\u001b[0;32m    216\u001b[0m         \u001b[38;5;28;01mif\u001b[39;00m language_code \u001b[38;5;129;01min\u001b[39;00m transcript_dict:\n\u001b[0;32m    217\u001b[0m             \u001b[38;5;28;01mreturn\u001b[39;00m transcript_dict[language_code]\n\u001b[1;32m--> 219\u001b[0m \u001b[38;5;28;01mraise\u001b[39;00m NoTranscriptFound(\n\u001b[0;32m    220\u001b[0m     \u001b[38;5;28mself\u001b[39m\u001b[38;5;241m.\u001b[39mvideo_id,\n\u001b[0;32m    221\u001b[0m     language_codes,\n\u001b[0;32m    222\u001b[0m     \u001b[38;5;28mself\u001b[39m\n\u001b[0;32m    223\u001b[0m )\n",
      "\u001b[1;31mNoTranscriptFound\u001b[0m: \nCould not retrieve a transcript for the video https://www.youtube.com/watch?v=wkpURF69_DM! This is most likely caused by:\n\nNo transcripts were found for any of the requested language codes: ['en']\n\nFor this video (wkpURF69_DM) transcripts are available in the following languages:\n\n(MANUALLY CREATED)\nNone\n\n(GENERATED)\n - uk (\"Ukrainian (auto-generated)\")[TRANSLATABLE]\n\n(TRANSLATION LANGUAGES)\n - af (\"Afrikaans\")\n - ak (\"Akan\")\n - sq (\"Albanian\")\n - am (\"Amharic\")\n - ar (\"Arabic\")\n - hy (\"Armenian\")\n - as (\"Assamese\")\n - ay (\"Aymara\")\n - az (\"Azerbaijani\")\n - bn (\"Bangla\")\n - eu (\"Basque\")\n - be (\"Belarusian\")\n - bho (\"Bhojpuri\")\n - bs (\"Bosnian\")\n - bg (\"Bulgarian\")\n - my (\"Burmese\")\n - ca (\"Catalan\")\n - ceb (\"Cebuano\")\n - zh-Hans (\"Chinese (Simplified)\")\n - zh-Hant (\"Chinese (Traditional)\")\n - co (\"Corsican\")\n - hr (\"Croatian\")\n - cs (\"Czech\")\n - da (\"Danish\")\n - dv (\"Divehi\")\n - nl (\"Dutch\")\n - en (\"English\")\n - eo (\"Esperanto\")\n - et (\"Estonian\")\n - ee (\"Ewe\")\n - fil (\"Filipino\")\n - fi (\"Finnish\")\n - fr (\"French\")\n - gl (\"Galician\")\n - lg (\"Ganda\")\n - ka (\"Georgian\")\n - de (\"German\")\n - el (\"Greek\")\n - gn (\"Guarani\")\n - gu (\"Gujarati\")\n - ht (\"Haitian Creole\")\n - ha (\"Hausa\")\n - haw (\"Hawaiian\")\n - iw (\"Hebrew\")\n - hi (\"Hindi\")\n - hmn (\"Hmong\")\n - hu (\"Hungarian\")\n - is (\"Icelandic\")\n - ig (\"Igbo\")\n - id (\"Indonesian\")\n - ga (\"Irish\")\n - it (\"Italian\")\n - ja (\"Japanese\")\n - jv (\"Javanese\")\n - kn (\"Kannada\")\n - kk (\"Kazakh\")\n - km (\"Khmer\")\n - rw (\"Kinyarwanda\")\n - ko (\"Korean\")\n - kri (\"Krio\")\n - ku (\"Kurdish\")\n - ky (\"Kyrgyz\")\n - lo (\"Lao\")\n - la (\"Latin\")\n - lv (\"Latvian\")\n - ln (\"Lingala\")\n - lt (\"Lithuanian\")\n - lb (\"Luxembourgish\")\n - mk (\"Macedonian\")\n - mg (\"Malagasy\")\n - ms (\"Malay\")\n - ml (\"Malayalam\")\n - mt (\"Maltese\")\n - mi (\"Māori\")\n - mr (\"Marathi\")\n - mn (\"Mongolian\")\n - ne (\"Nepali\")\n - nso (\"Northern Sotho\")\n - no (\"Norwegian\")\n - ny (\"Nyanja\")\n - or (\"Odia\")\n - om (\"Oromo\")\n - ps (\"Pashto\")\n - fa (\"Persian\")\n - pl (\"Polish\")\n - pt (\"Portuguese\")\n - pa (\"Punjabi\")\n - qu (\"Quechua\")\n - ro (\"Romanian\")\n - ru (\"Russian\")\n - sm (\"Samoan\")\n - sa (\"Sanskrit\")\n - gd (\"Scottish Gaelic\")\n - sr (\"Serbian\")\n - sn (\"Shona\")\n - sd (\"Sindhi\")\n - si (\"Sinhala\")\n - sk (\"Slovak\")\n - sl (\"Slovenian\")\n - so (\"Somali\")\n - st (\"Southern Sotho\")\n - es (\"Spanish\")\n - su (\"Sundanese\")\n - sw (\"Swahili\")\n - sv (\"Swedish\")\n - tg (\"Tajik\")\n - ta (\"Tamil\")\n - tt (\"Tatar\")\n - te (\"Telugu\")\n - th (\"Thai\")\n - ti (\"Tigrinya\")\n - ts (\"Tsonga\")\n - tr (\"Turkish\")\n - tk (\"Turkmen\")\n - uk (\"Ukrainian\")\n - ur (\"Urdu\")\n - ug (\"Uyghur\")\n - uz (\"Uzbek\")\n - vi (\"Vietnamese\")\n - cy (\"Welsh\")\n - fy (\"Western Frisian\")\n - xh (\"Xhosa\")\n - yi (\"Yiddish\")\n - yo (\"Yoruba\")\n - zu (\"Zulu\")\n\nIf you are sure that the described cause is not responsible for this error and that a transcript should be retrievable, please create an issue at https://github.com/jdepoix/youtube-transcript-api/issues. Please add which version of youtube_transcript_api you are using and provide the information needed to replicate the error. Also make sure that there are no open issues which already describe your problem!"
     ]
    }
   ],
   "source": [
    "# Now, we will iterate through these urls,\n",
    "# calling our API for all 50 videos\n",
    "for url in urls:\n",
    "    download_video(url)"
   ]
  }
 ],
 "metadata": {
  "colab": {
   "provenance": []
  },
  "kernelspec": {
   "display_name": "Python 3 (ipykernel)",
   "language": "python",
   "name": "python3"
  },
  "language_info": {
   "codemirror_mode": {
    "name": "ipython",
    "version": 3
   },
   "file_extension": ".py",
   "mimetype": "text/x-python",
   "name": "python",
   "nbconvert_exporter": "python",
   "pygments_lexer": "ipython3",
   "version": "3.10.0"
  }
 },
 "nbformat": 4,
 "nbformat_minor": 1
}
